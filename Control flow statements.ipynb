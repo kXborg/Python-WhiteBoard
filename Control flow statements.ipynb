{
 "cells": [
  {
   "cell_type": "markdown",
   "metadata": {},
   "source": [
    "# Control flow statements\n",
    "\n",
    "## 1. For Loop\n",
    "The for loop executes a block of code repeatedly until the condition in the for statement is no longer valid."
   ]
  },
  {
   "cell_type": "markdown",
   "metadata": {},
   "source": [
    "#### Looping through an iterable.\n",
    "An iterable is anything that can be looped over.\n",
    " - string\n",
    " - list\n",
    " - tuple\n",
    "\n",
    "Syntax:\n",
    "```for a in iterable:\n",
    "    print(a)```"
   ]
  },
  {
   "cell_type": "markdown",
   "metadata": {},
   "source": [
    "#### Loop through a list"
   ]
  },
  {
   "cell_type": "code",
   "execution_count": 1,
   "metadata": {},
   "outputs": [
    {
     "name": "stdout",
     "output_type": "stream",
     "text": [
      "cats\n",
      "dogs\n",
      "rabbits\n",
      "hamsters\n"
     ]
    }
   ],
   "source": [
    "# example.\n",
    "pets = ['cats', 'dogs', 'rabbits', 'hamsters']\n",
    "for mypets in pets:\n",
    "    print(mypets)"
   ]
  },
  {
   "cell_type": "code",
   "execution_count": 2,
   "metadata": {},
   "outputs": [
    {
     "name": "stdout",
     "output_type": "stream",
     "text": [
      "0 cats\n",
      "1 dogs\n",
      "2 rabbits\n",
      "3 hamsters\n"
     ]
    }
   ],
   "source": [
    "# We can also display the index of the members in list using enumerate().\n",
    "for index, mypets in enumerate(pets):\n",
    "    print(index, mypets)"
   ]
  },
  {
   "cell_type": "markdown",
   "metadata": {},
   "source": [
    "#### Loop through a string"
   ]
  },
  {
   "cell_type": "code",
   "execution_count": 3,
   "metadata": {},
   "outputs": [
    {
     "name": "stdout",
     "output_type": "stream",
     "text": [
      "H\n",
      "e\n",
      "l\n",
      "l\n",
      "o\n"
     ]
    }
   ],
   "source": [
    "message = 'Hello'\n",
    "for i in message:\n",
    "    print(i)"
   ]
  },
  {
   "cell_type": "markdown",
   "metadata": {},
   "source": [
    "#### Loop through a sequence of numbers.\n",
    "We use **`range()`** function for that.\n",
    "##### Syntax:\n",
    "**`range(start, end, step)`**\n",
    "<br>\n",
    "<br>\n",
    "Default start = 0, step = 1"
   ]
  },
  {
   "cell_type": "code",
   "execution_count": 4,
   "metadata": {},
   "outputs": [
    {
     "name": "stdout",
     "output_type": "stream",
     "text": [
      "0\n",
      "1\n",
      "2\n",
      "3\n",
      "4\n"
     ]
    }
   ],
   "source": [
    "for i in range(5):\n",
    "    print(i)"
   ]
  },
  {
   "cell_type": "code",
   "execution_count": 5,
   "metadata": {},
   "outputs": [
    {
     "name": "stdout",
     "output_type": "stream",
     "text": [
      "3\n",
      "4\n",
      "5\n",
      "6\n",
      "7\n",
      "8\n"
     ]
    }
   ],
   "source": [
    "for i in range(3, 9):\n",
    "    print(i)"
   ]
  },
  {
   "cell_type": "code",
   "execution_count": 6,
   "metadata": {},
   "outputs": [
    {
     "name": "stdout",
     "output_type": "stream",
     "text": [
      "2\n",
      "4\n",
      "6\n",
      "8\n"
     ]
    }
   ],
   "source": [
    "for i in range(2, 10, 2):\n",
    "    print(i)"
   ]
  },
  {
   "cell_type": "markdown",
   "metadata": {},
   "source": [
    "## 2. While Loop \n",
    "A while repeatedly executes instruction inside the loop while a certain condition remains valid.\n",
    "\n",
    "##### Syntax:\n",
    "```while condition is True:\n",
    "        do something```"
   ]
  },
  {
   "cell_type": "markdown",
   "metadata": {},
   "source": [
    "### break\n",
    "breaks a loop\n",
    "### continue\n",
    "When we use continue, the rest of the loop after the **`continue`** keyword is skipped and loop runs."
   ]
  },
  {
   "cell_type": "markdown",
   "metadata": {},
   "source": [
    "## 3. Try, Except\n",
    "This statement controls how the program proceeds when an error occurs.\n",
    "\n",
    "#### Syntax:\n",
    "```try:\n",
    "    do something\n",
    "except:\n",
    "    do something else when an error occurs```"
   ]
  },
  {
   "cell_type": "code",
   "execution_count": 7,
   "metadata": {},
   "outputs": [
    {
     "name": "stdout",
     "output_type": "stream",
     "text": [
      "An error occured\n"
     ]
    }
   ],
   "source": [
    "try:\n",
    "    ans = 12/0\n",
    "    print(ans)\n",
    "except:\n",
    "    print('An error occured')"
   ]
  },
  {
   "cell_type": "code",
   "execution_count": 11,
   "metadata": {},
   "outputs": [
    {
     "name": "stdout",
     "output_type": "stream",
     "text": [
      "Please enter a number : 11\n",
      "Please enter another number : 45\n",
      "Answer :  0.24444444444444444\n",
      "[Errno 2] No such file or directory: 'none.txt' error encountered.\n"
     ]
    }
   ],
   "source": [
    "# Proper example.\n",
    "try:\n",
    "    userInput1 = int(input(\"Please enter a number : \"))\n",
    "    userInput2 = int(input(\"Please enter another number : \"))\n",
    "    ans = userInput1/userInput2\n",
    "    print('Answer : ', ans)\n",
    "    myFile = open(\"none.txt\", 'r')\n",
    "except ValueError:\n",
    "    print('You did not enter a number')\n",
    "except ZeroDivisionError:\n",
    "    print(\"Error: Can not divide by zero\")\n",
    "except Exception as e:\n",
    "    print(e , 'error encountered.')"
   ]
  }
 ],
 "metadata": {
  "kernelspec": {
   "display_name": "Python 3",
   "language": "python",
   "name": "python3"
  },
  "language_info": {
   "codemirror_mode": {
    "name": "ipython",
    "version": 3
   },
   "file_extension": ".py",
   "mimetype": "text/x-python",
   "name": "python",
   "nbconvert_exporter": "python",
   "pygments_lexer": "ipython3",
   "version": "3.8.5"
  }
 },
 "nbformat": 4,
 "nbformat_minor": 4
}
