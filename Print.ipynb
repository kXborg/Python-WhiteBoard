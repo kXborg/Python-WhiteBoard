{
 "cells": [
  {
   "cell_type": "markdown",
   "metadata": {},
   "source": [
    "## Learn Print\n",
    "It is very much important to practice all syntaxes that are used for printing. In this notebook, we are going to see different ways through which print function works."
   ]
  },
  {
   "cell_type": "code",
   "execution_count": 5,
   "metadata": {},
   "outputs": [
    {
     "name": "stdout",
     "output_type": "stream",
     "text": [
      "My name is Kukil and I am  23 years old. I have 3 cars.\n"
     ]
    }
   ],
   "source": [
    "print('My name is Kukil and I am ', 23, 'years old. I have',3, 'cars.')"
   ]
  },
  {
   "cell_type": "markdown",
   "metadata": {},
   "source": [
    "Just be careful with qoutes. Use escape character if required.\n",
    "### %s formatter"
   ]
  },
  {
   "cell_type": "code",
   "execution_count": 20,
   "metadata": {},
   "outputs": [
    {
     "ename": "SyntaxError",
     "evalue": "invalid syntax (<ipython-input-20-d6987b97b3ac>, line 3)",
     "output_type": "error",
     "traceback": [
      "\u001b[1;36m  File \u001b[1;32m\"<ipython-input-20-d6987b97b3ac>\"\u001b[1;36m, line \u001b[1;32m3\u001b[0m\n\u001b[1;33m    print('My name is Kukil and I am %s years old. I have %s cars.', %(age, number))\u001b[0m\n\u001b[1;37m                                                                     ^\u001b[0m\n\u001b[1;31mSyntaxError\u001b[0m\u001b[1;31m:\u001b[0m invalid syntax\n"
     ]
    }
   ],
   "source": [
    "age = 23\n",
    "number = 3\n",
    "print('My name is Kukil and I am %s years old. I have %s cars.', %(age, number))"
   ]
  },
  {
   "cell_type": "markdown",
   "metadata": {},
   "source": [
    "I have no idea why it's not working. I will try in pyCharm later."
   ]
  },
  {
   "cell_type": "markdown",
   "metadata": {},
   "source": [
    "### String method\n"
   ]
  },
  {
   "cell_type": "code",
   "execution_count": 16,
   "metadata": {},
   "outputs": [
    {
     "name": "stdout",
     "output_type": "stream",
     "text": [
      "My name is Kukil and I am 23 years old. I have 3 cars.\n"
     ]
    }
   ],
   "source": [
    "print('My name is Kukil and I am ' + str(23) + ' years old. I have ' + str(3) + ' cars.')"
   ]
  },
  {
   "cell_type": "markdown",
   "metadata": {},
   "source": [
    "\n",
    "### Using .format()\n",
    "This method is really good and it offers lots of advantages over %s method."
   ]
  },
  {
   "cell_type": "code",
   "execution_count": 21,
   "metadata": {},
   "outputs": [
    {
     "name": "stdout",
     "output_type": "stream",
     "text": [
      "My name is Kukil and I am 23 years old. I have 3 cars.\n"
     ]
    }
   ],
   "source": [
    "# Normal.\n",
    "print('My name is Kukil and I am {} years old. I have {} cars.'.format(23, 3))"
   ]
  },
  {
   "cell_type": "code",
   "execution_count": 22,
   "metadata": {},
   "outputs": [
    {
     "name": "stdout",
     "output_type": "stream",
     "text": [
      "My name is Kukil and I am 23 years old. I have 3 cars.\n"
     ]
    }
   ],
   "source": [
    "# Index variables for convenience.\n",
    "print('My name is Kukil and I am {0} years old. I have {1} cars.'.format(23, 3))"
   ]
  },
  {
   "cell_type": "markdown",
   "metadata": {},
   "source": [
    "Inserting the variable names. You get the added perk of being able to pass objects and then reference parameters and methods in between the braces."
   ]
  },
  {
   "cell_type": "code",
   "execution_count": 31,
   "metadata": {},
   "outputs": [
    {
     "name": "stdout",
     "output_type": "stream",
     "text": [
      "My name is Kukil and I am 23 years old. I have 3 cars.\n"
     ]
    }
   ],
   "source": [
    "myDict = dict(age = 23, cars = 3)\n",
    "print(\n",
    "    'My name is Kukil and I am {age} years old. I have {cars} cars.'.format\n",
    "    (\n",
    "        age = myDict['age'], cars = myDict['cars']\n",
    "    )\n",
    "     )"
   ]
  },
  {
   "cell_type": "markdown",
   "metadata": {},
   "source": [
    "#### You can also use ** to do this neat trick with dictionaries\n",
    "But note that dictionaries are not ordered. So be careful. <br> Dictionaries do not have a predictable order as their keys are stored by a hash. If you need order, use a **`list`** or **`collections.OrderedDict`**."
   ]
  },
  {
   "cell_type": "code",
   "execution_count": 29,
   "metadata": {},
   "outputs": [
    {
     "name": "stdout",
     "output_type": "stream",
     "text": [
      "My name is Kukil and I am 23 years old. I have 3 cars.\n"
     ]
    }
   ],
   "source": [
    "myDict = {'age':23, 'cars':3}\n",
    "print('My name is Kukil and I am {age} years old. I have {cars} cars.'.format(**myDict))"
   ]
  },
  {
   "cell_type": "markdown",
   "metadata": {},
   "source": [
    "### F-string method\n",
    "Code using `str.format()` is much more easily readable than code using `%-formatting`, but `str.format()` can still be quite verbose when you are dealing with multiple parameters and longer strings. Hence the **`f-string method`** or **`formatted string literals`**."
   ]
  },
  {
   "cell_type": "code",
   "execution_count": 33,
   "metadata": {},
   "outputs": [
    {
     "data": {
      "text/plain": [
       "'32'"
      ]
     },
     "execution_count": 33,
     "metadata": {},
     "output_type": "execute_result"
    }
   ],
   "source": [
    "# f-strings are evaluated at runtime, hence we can put any and all valid python expressions in them.\n",
    "f\"{2**5}\""
   ]
  },
  {
   "cell_type": "code",
   "execution_count": 36,
   "metadata": {},
   "outputs": [
    {
     "data": {
      "text/plain": [
       "'i am kukil kasyap borgohain.'"
      ]
     },
     "execution_count": 36,
     "metadata": {},
     "output_type": "execute_result"
    }
   ],
   "source": [
    "# We can call a function.\n",
    "def cvt_lowercase(ip):\n",
    "    return ip.lower()\n",
    "\n",
    "intro = 'I am Kukil'\n",
    "f\"{cvt_lowercase(intro)} kasyap borgohain.\""
   ]
  },
  {
   "cell_type": "code",
   "execution_count": 38,
   "metadata": {},
   "outputs": [
    {
     "data": {
      "text/plain": [
       "'i am kukil kashyap borgohain.'"
      ]
     },
     "execution_count": 38,
     "metadata": {},
     "output_type": "execute_result"
    }
   ],
   "source": [
    "# Call a method directly.\n",
    "f\"{intro.lower()} kashyap borgohain.\""
   ]
  },
  {
   "cell_type": "code",
   "execution_count": 40,
   "metadata": {},
   "outputs": [
    {
     "data": {
      "text/plain": [
       "'Hi I am kukil.I am 23 years old.By profession, I am a CV Engineer.'"
      ]
     },
     "execution_count": 40,
     "metadata": {},
     "output_type": "execute_result"
    }
   ],
   "source": [
    "# Multiline f-string.\n",
    "myDict = {'name': 'kukil', 'age':23, 'profession':'CV Engineer'}\n",
    "\n",
    "message = (f\"Hi I am {myDict['name']}.\"\n",
    "          f\"I am {myDict['age']} years old.\"\n",
    "          f\"By profession, I am a {myDict['profession']}.\"\n",
    "          )\n",
    "message"
   ]
  },
  {
   "cell_type": "markdown",
   "metadata": {},
   "source": [
    "#### One more advantage is that f-string is very fast compared to other methods."
   ]
  },
  {
   "cell_type": "code",
   "execution_count": 41,
   "metadata": {},
   "outputs": [
    {
     "data": {
      "text/plain": [
       "'i am kukil kashyap borgohain'"
      ]
     },
     "execution_count": 41,
     "metadata": {},
     "output_type": "execute_result"
    }
   ],
   "source": [
    "# Does signle quote work? Let's see.\n",
    "f'{intro.lower()} kashyap borgohain'"
   ]
  },
  {
   "cell_type": "markdown",
   "metadata": {},
   "source": [
    "### Yes"
   ]
  }
 ],
 "metadata": {
  "kernelspec": {
   "display_name": "Python 3",
   "language": "python",
   "name": "python3"
  },
  "language_info": {
   "codemirror_mode": {
    "name": "ipython",
    "version": 3
   },
   "file_extension": ".py",
   "mimetype": "text/x-python",
   "name": "python",
   "nbconvert_exporter": "python",
   "pygments_lexer": "ipython3",
   "version": "3.8.5"
  }
 },
 "nbformat": 4,
 "nbformat_minor": 4
}
