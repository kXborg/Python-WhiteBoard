{
 "cells": [
  {
   "cell_type": "code",
   "execution_count": 60,
   "id": "9ab6e3e9",
   "metadata": {},
   "outputs": [],
   "source": [
    "I = 1\n",
    "V = 5\n",
    "X = 10\n",
    "L = 50\n",
    "C = 100\n",
    "D = 500\n",
    "M = 1000"
   ]
  },
  {
   "cell_type": "code",
   "execution_count": 61,
   "id": "c0118567",
   "metadata": {},
   "outputs": [],
   "source": [
    "rmn = {\n",
    "    'I': 1,\n",
    "    'V': 5,\n",
    "    'X': 10,\n",
    "    'L': 50,\n",
    "    'C': 100,\n",
    "    'D': 500,\n",
    "    'M': 1000\n",
    "}"
   ]
  },
  {
   "cell_type": "code",
   "execution_count": 62,
   "id": "5554cbf1",
   "metadata": {},
   "outputs": [
    {
     "data": {
      "text/plain": [
       "1"
      ]
     },
     "execution_count": 62,
     "metadata": {},
     "output_type": "execute_result"
    }
   ],
   "source": [
    "rmn['I']"
   ]
  },
  {
   "cell_type": "code",
   "execution_count": 63,
   "id": "f73256f1",
   "metadata": {},
   "outputs": [],
   "source": [
    "def entries_to_str(entry):\n",
    "    rmn_list = list(entry)\n",
    "    return rmn_list"
   ]
  },
  {
   "cell_type": "code",
   "execution_count": 91,
   "id": "5a4be1e6",
   "metadata": {},
   "outputs": [
    {
     "data": {
      "text/plain": [
       "['X', 'X', 'L']"
      ]
     },
     "execution_count": 91,
     "metadata": {},
     "output_type": "execute_result"
    }
   ],
   "source": [
    "string = entries_to_str('XXL') \n",
    "string"
   ]
  },
  {
   "cell_type": "code",
   "execution_count": 92,
   "id": "55f9c16b",
   "metadata": {},
   "outputs": [
    {
     "name": "stdout",
     "output_type": "stream",
     "text": [
      "50\n"
     ]
    }
   ],
   "source": [
    "sum = rmn[string[-1]]\n",
    "for i in range(len(string)):\n",
    "    if len(string) >= 2:\n",
    "        if rmn[string[-1]] <= rmn[string[-2]]:\n",
    "            sum += rmn[string[-2]]\n",
    "        else:\n",
    "            sum -= rmn[string[-2]]\n",
    "        string.pop()\n",
    "\n",
    "print(sum)\n",
    "        "
   ]
  },
  {
   "cell_type": "code",
   "execution_count": null,
   "id": "9297e1d1",
   "metadata": {},
   "outputs": [],
   "source": [
    "def ValidationOfRomanNumerals(string):\n",
    "     \n",
    "    # Importing regular expression\n",
    "    import re\n",
    "     \n",
    "    # Searching the input string in expression and\n",
    "    # returning the boolean value\n",
    "    print(bool(re.search(r\"^M{0,3}(CM|CD|D?C{0,3})(XC|XL|L?X{0,3})(IX|IV|V?I{0,3})$\",string)))"
   ]
  },
  {
   "cell_type": "code",
   "execution_count": 12,
   "id": "2169f73e",
   "metadata": {},
   "outputs": [],
   "source": [
    "def roman_to_int(num):\n",
    "    str_num = str(num)\n",
    "    ret = list(str_num)\n",
    "    return ret"
   ]
  },
  {
   "cell_type": "code",
   "execution_count": 13,
   "id": "836a6ef8",
   "metadata": {},
   "outputs": [
    {
     "data": {
      "text/plain": [
       "['X', 'V']"
      ]
     },
     "execution_count": 13,
     "metadata": {},
     "output_type": "execute_result"
    }
   ],
   "source": [
    "roman_to_int('XV')"
   ]
  },
  {
   "cell_type": "code",
   "execution_count": 17,
   "id": "9d40c66a",
   "metadata": {},
   "outputs": [],
   "source": [
    "# Convert number to split list."
   ]
  },
  {
   "cell_type": "code",
   "execution_count": null,
   "id": "acb52039",
   "metadata": {},
   "outputs": [],
   "source": [
    "def int_to_list(val):\n",
    "    "
   ]
  }
 ],
 "metadata": {
  "kernelspec": {
   "display_name": "Python 3 (ipykernel)",
   "language": "python",
   "name": "python3"
  },
  "language_info": {
   "codemirror_mode": {
    "name": "ipython",
    "version": 3
   },
   "file_extension": ".py",
   "mimetype": "text/x-python",
   "name": "python",
   "nbconvert_exporter": "python",
   "pygments_lexer": "ipython3",
   "version": "3.9.12"
  }
 },
 "nbformat": 4,
 "nbformat_minor": 5
}
