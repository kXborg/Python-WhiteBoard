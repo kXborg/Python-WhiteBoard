{
 "cells": [
  {
   "cell_type": "code",
   "execution_count": 8,
   "id": "0545a043",
   "metadata": {},
   "outputs": [],
   "source": [
    "import time\n",
    "import tracemalloc"
   ]
  },
  {
   "cell_type": "code",
   "execution_count": 11,
   "id": "c03f1d47",
   "metadata": {},
   "outputs": [
    {
     "name": "stdout",
     "output_type": "stream",
     "text": [
      "(1004, 11154)\n",
      "Addition:  0.001451253890991211\n",
      "Multiplication:  0.0002529621124267578\n"
     ]
    }
   ],
   "source": [
    "t1 = time.time()\n",
    "tracemalloc.start()\n",
    "a = 0+2\n",
    "print(tracemalloc.get_traced_memory())\n",
    "t2 = time.time()\n",
    "b = 2*1\n",
    "t3 = time.time()\n",
    "\n",
    "print('Addition: ', t2 - t1)\n",
    "print('Multiplication: ', t3 - t2)\n",
    "\n",
    "tracemalloc.stop()"
   ]
  },
  {
   "cell_type": "code",
   "execution_count": 13,
   "id": "2eaa874c",
   "metadata": {},
   "outputs": [
    {
     "name": "stdout",
     "output_type": "stream",
     "text": [
      "Addition Time :  6.4849853515625e-05\n",
      "Mul time :  5.984306335449219e-05\n"
     ]
    }
   ],
   "source": [
    "a = float(0.003976407838)\n",
    "b = float(0.000987677774)\n",
    "t1 = time.time()\n",
    "c = a + b\n",
    "t2 = time.time()\n",
    "d = a * b\n",
    "t3 = time.time()\n",
    "\n",
    "print('Addition Time : ', t2 - t1)\n",
    "print('Mul time : ', t3 - t2)"
   ]
  },
  {
   "cell_type": "code",
   "execution_count": 14,
   "id": "6f901d39",
   "metadata": {},
   "outputs": [],
   "source": [
    "import numpy as np\n",
    "a = np.array(100)"
   ]
  },
  {
   "cell_type": "code",
   "execution_count": 15,
   "id": "6aa8df8a",
   "metadata": {},
   "outputs": [],
   "source": [
    "b = np.array(200)"
   ]
  },
  {
   "cell_type": "code",
   "execution_count": 25,
   "id": "f9680518",
   "metadata": {},
   "outputs": [
    {
     "name": "stdout",
     "output_type": "stream",
     "text": [
      "300\n"
     ]
    },
    {
     "data": {
      "text/plain": [
       "0.00021457672119140625"
      ]
     },
     "execution_count": 25,
     "metadata": {},
     "output_type": "execute_result"
    }
   ],
   "source": [
    "t1 = time.time()\n",
    "c = a + b\n",
    "print(c)\n",
    "t2 = time.time()\n",
    "t2 - t1"
   ]
  },
  {
   "cell_type": "code",
   "execution_count": 27,
   "id": "15c9291e",
   "metadata": {},
   "outputs": [
    {
     "name": "stdout",
     "output_type": "stream",
     "text": [
      "300\n"
     ]
    },
    {
     "data": {
      "text/plain": [
       "0.0002999305725097656"
      ]
     },
     "execution_count": 27,
     "metadata": {},
     "output_type": "execute_result"
    }
   ],
   "source": [
    "t1 = time.time()\n",
    "c = np.array(3) * np.array(100)\n",
    "print(c)\n",
    "t2 = time.time()\n",
    "t2 - t1"
   ]
  },
  {
   "cell_type": "code",
   "execution_count": 28,
   "id": "5bfd0bf4",
   "metadata": {},
   "outputs": [
    {
     "name": "stdout",
     "output_type": "stream",
     "text": [
      "20000\n"
     ]
    },
    {
     "data": {
      "text/plain": [
       "0.00027441978454589844"
      ]
     },
     "execution_count": 28,
     "metadata": {},
     "output_type": "execute_result"
    }
   ],
   "source": [
    "t1 = time.time()\n",
    "c = a*b\n",
    "print(c)\n",
    "t2 = time.time()\n",
    "t2 - t1"
   ]
  },
  {
   "cell_type": "code",
   "execution_count": 1,
   "id": "8ec91061",
   "metadata": {},
   "outputs": [],
   "source": [
    "import torch"
   ]
  },
  {
   "cell_type": "code",
   "execution_count": 9,
   "id": "9be5b904",
   "metadata": {},
   "outputs": [
    {
     "data": {
      "text/plain": [
       "tensor(100)"
      ]
     },
     "execution_count": 9,
     "metadata": {},
     "output_type": "execute_result"
    }
   ],
   "source": [
    "a = torch.tensor(100)\n",
    "a"
   ]
  },
  {
   "cell_type": "code",
   "execution_count": 10,
   "id": "1d8fd98b",
   "metadata": {},
   "outputs": [
    {
     "data": {
      "text/plain": [
       "tensor(200)"
      ]
     },
     "execution_count": 10,
     "metadata": {},
     "output_type": "execute_result"
    }
   ],
   "source": [
    "b = torch.tensor(200)\n",
    "b"
   ]
  },
  {
   "cell_type": "code",
   "execution_count": 11,
   "id": "5f9c3864",
   "metadata": {},
   "outputs": [
    {
     "data": {
      "text/plain": [
       "0.0007445812225341797"
      ]
     },
     "execution_count": 11,
     "metadata": {},
     "output_type": "execute_result"
    }
   ],
   "source": [
    "t1 = time.time()\n",
    "c = torch.add(a,b)\n",
    "t2 = time.time()\n",
    "t2- t1"
   ]
  },
  {
   "cell_type": "code",
   "execution_count": 12,
   "id": "6ef77427",
   "metadata": {},
   "outputs": [
    {
     "data": {
      "text/plain": [
       "0.0011734962463378906"
      ]
     },
     "execution_count": 12,
     "metadata": {},
     "output_type": "execute_result"
    }
   ],
   "source": [
    "t1 = time.time()\n",
    "d = torch.mul(a,b)\n",
    "t2 = time.time()\n",
    "t2 - t1"
   ]
  },
  {
   "cell_type": "code",
   "execution_count": 13,
   "id": "6210a78d",
   "metadata": {},
   "outputs": [],
   "source": [
    "m = torch.ones(2,2)\n",
    "n = torch.eye(2,2)"
   ]
  },
  {
   "cell_type": "code",
   "execution_count": 14,
   "id": "043b3686",
   "metadata": {},
   "outputs": [
    {
     "data": {
      "text/plain": [
       "tensor([[1., 1.],\n",
       "        [1., 1.]])"
      ]
     },
     "execution_count": 14,
     "metadata": {},
     "output_type": "execute_result"
    }
   ],
   "source": [
    "m"
   ]
  },
  {
   "cell_type": "code",
   "execution_count": 15,
   "id": "3f38060d",
   "metadata": {},
   "outputs": [
    {
     "data": {
      "text/plain": [
       "tensor([[1., 0.],\n",
       "        [0., 1.]])"
      ]
     },
     "execution_count": 15,
     "metadata": {},
     "output_type": "execute_result"
    }
   ],
   "source": [
    "n"
   ]
  },
  {
   "cell_type": "code",
   "execution_count": 25,
   "id": "0c976ef1",
   "metadata": {},
   "outputs": [
    {
     "data": {
      "text/plain": [
       "22.654300451278687"
      ]
     },
     "execution_count": 25,
     "metadata": {},
     "output_type": "execute_result"
    }
   ],
   "source": [
    "t1 = time.time()\n",
    "for i in range(10000000):\n",
    "    torch.add(m,n)\n",
    "time.time() - t1"
   ]
  },
  {
   "cell_type": "code",
   "execution_count": 26,
   "id": "d73ccd88",
   "metadata": {},
   "outputs": [
    {
     "data": {
      "text/plain": [
       "22.50378727912903"
      ]
     },
     "execution_count": 26,
     "metadata": {},
     "output_type": "execute_result"
    }
   ],
   "source": [
    "t1 = time.time()\n",
    "for i in range(10000000):\n",
    "    torch.mul(m,n)\n",
    "time.time() - t1"
   ]
  },
  {
   "cell_type": "code",
   "execution_count": null,
   "id": "ccf90f70",
   "metadata": {},
   "outputs": [],
   "source": []
  }
 ],
 "metadata": {
  "kernelspec": {
   "display_name": "yolox",
   "language": "python",
   "name": "yolox-2-10-22"
  },
  "language_info": {
   "codemirror_mode": {
    "name": "ipython",
    "version": 3
   },
   "file_extension": ".py",
   "mimetype": "text/x-python",
   "name": "python",
   "nbconvert_exporter": "python",
   "pygments_lexer": "ipython3",
   "version": "3.10.4"
  }
 },
 "nbformat": 4,
 "nbformat_minor": 5
}
