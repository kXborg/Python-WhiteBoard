{
 "cells": [
  {
   "cell_type": "code",
   "execution_count": 1,
   "id": "d9276288",
   "metadata": {},
   "outputs": [],
   "source": [
    "matrix = [[48, 32, 32, 50, 33],\n",
    "          [48, 41, 48, 28, 30],\n",
    "          [32, 46, 36, 46, 37]]"
   ]
  },
  {
   "cell_type": "code",
   "execution_count": null,
   "id": "714cf709",
   "metadata": {},
   "outputs": [],
   "source": [
    "prev_val = 0\n",
    "for i in range(len(matrix)):\n",
    "    "
   ]
  }
 ],
 "metadata": {
  "kernelspec": {
   "display_name": "Python 3 (ipykernel)",
   "language": "python",
   "name": "python3"
  },
  "language_info": {
   "codemirror_mode": {
    "name": "ipython",
    "version": 3
   },
   "file_extension": ".py",
   "mimetype": "text/x-python",
   "name": "python",
   "nbconvert_exporter": "python",
   "pygments_lexer": "ipython3",
   "version": "3.10.8"
  }
 },
 "nbformat": 4,
 "nbformat_minor": 5
}
