{
 "cells": [
  {
   "cell_type": "markdown",
   "metadata": {},
   "source": [
    "<h1 style=\"font-size:30px;\">Application: E-Signature</h1> \n",
    "\n",
    "In this notebook, we are going to demonstrate how to create a transparent digital signature from a photo that can be then imported into PDF documents. By doing this, we will apply knowledge of the following topics:\n",
    "\n",
    "* Cropping images\n",
    "* Changing image color formats\n",
    "* Thresholding & Masking\n",
    "* Color tinting\n",
    "* Creating alpha channels\n"
   ]
  },
  {
   "cell_type": "code",
   "execution_count": null,
   "metadata": {},
   "outputs": [],
   "source": [
    "import cv2\n",
    "import matplotlib.pyplot as plt\n",
    "%matplotlib inline  \n",
    "from IPython.display import Image\n",
    "plt.rcParams['figure.figsize'] = (6.0, 6.0)\n",
    "plt.rcParams['image.cmap'] = 'gray'\n",
    "\n",
    "if 'google.colab' in str(get_ipython()):\n",
    "    print(\"Downloading Code to Colab Environment\")\n",
    "    !wget https://www.dropbox.com/sh/f8ae3j0nbrflife/AAAy-WwcREtWOGgoEbFLDPANa?dl=1 -O module-code.zip -q --show-progress\n",
    "    !unzip -qq module-code.zip\n",
    "else:\n",
    "    pass"
   ]
  },
  {
   "cell_type": "markdown",
   "metadata": {},
   "source": [
    "# 1. Read and Display the Original Handwritten Signature\n",
    "We are going to load the image in normal mode, which comes in BGR format by default. This is important to note because we will need to convert it to RGB later for display.\n",
    "### <font style=\"color:rgb(8,133,37)\">OpenCV Documentation</font>\n",
    "\n",
    "[**`imread()`**](https://docs.opencv.org/4.5.2/d4/da8/group__imgcodecs.html#ga288b8b3da0892bd651fce07b3bbd3a56)\n",
    "[**`imreadModes()`**](https://docs.opencv.org/4.5.2/d8/d6a/group__imgcodecs__flags.html#ga61d9b0126a3e57d9277ac48327799c80)\n",
    "[**`cvtColor()`**](https://docs.opencv.org/4.5.2/d8/d01/group__imgproc__color__conversions.html#ga397ae87e1288a81d2363b61574eb8cab)"
   ]
  },
  {
   "cell_type": "code",
   "execution_count": null,
   "metadata": {},
   "outputs": [],
   "source": [
    "# Read the image.\n",
    "sig_org = cv2.imread('signature.jpg', cv2.IMREAD_COLOR)\n",
    "\n",
    "# Display the actual image in the browser.\n",
    "Image('signature.jpg', width = '400')"
   ]
  },
  {
   "cell_type": "markdown",
   "metadata": {},
   "source": [
    "# 2. Crop the Signature"
   ]
  },
  {
   "cell_type": "markdown",
   "metadata": {},
   "source": [
    "### <font style=\"color:rgb(50,120,230)\">Display the image for size<font/>"
   ]
  },
  {
   "cell_type": "code",
   "execution_count": null,
   "metadata": {
    "scrolled": true
   },
   "outputs": [],
   "source": [
    "# Display the image using imshow() so we can see the size with axis.\n",
    "plt.imshow(sig_org[:, :, ::-1])\n",
    "plt.title('Sample Signature')"
   ]
  },
  {
   "cell_type": "markdown",
   "metadata": {},
   "source": [
    "### <font style=\"color:rgb(50,120,230)\">Crop the signature<font/>\n",
    "This step is not technically required in this case. However, if the original image contained artifacts such as shadows or other markings on the paper, then cropping them out can be helpful prior to creating the alpha mask. Removing excess whitespace around the signature also makes it more convenient to work with and transform once brought into a PDF editor."
   ]
  },
  {
   "cell_type": "code",
   "execution_count": null,
   "metadata": {},
   "outputs": [],
   "source": [
    "# Crop the signature from the original image.\n",
    "sig = sig_org[700:2100, 450:3500, :]\n",
    "plt.imshow(sig[:, :, ::-1])"
   ]
  },
  {
   "cell_type": "markdown",
   "metadata": {},
   "source": [
    "# 3.  Convert to Grayscale \n",
    "Here, we are converting the image to grayscale using `cvtColor()`. The output is a 1-channel image, which is the first step to creating our alpha (transparency) channel.\n"
   ]
  },
  {
   "cell_type": "code",
   "execution_count": null,
   "metadata": {},
   "outputs": [],
   "source": [
    "sig_gray = cv2.cvtColor(sig, cv2.COLOR_BGR2GRAY)\n",
    "plt.imshow(sig_gray)\n",
    "plt.title('Gray scale Sign')"
   ]
  },
  {
   "cell_type": "markdown",
   "metadata": {},
   "source": [
    "# 3.  Create an Alpha Mask\n",
    "\n",
    "Use the **`threshold()`** function to extract the alpha mask. The function applies a fixed-level threshold to each array element. We need to specify a threshold value that is greater than the intensity of the signature and lower than the value of the background. In this case, the specific threshold value is not critical. Many middle tone values will work in the case (120 to 170). The output can directly be used as the alpha channel for the signature, noting that pure block will be transparent, and pure white will be opaque.\n",
    "\n",
    "<hr   style=\"border:none; height: 4px; background-color: #D3D3D3 \" />\n",
    "\n",
    " ### <font style=\"color:rgb(8,133,37)\">Function Syntax </font>\n",
    "``` python\n",
    "retval, dst = cv2.threshold(src, thresh, maxval, type[, dst])\n",
    "```\n",
    "`retval`: returns true upon success. <br>\n",
    "`dst`: Is the output image of the same size and depth as `src`.\n",
    "\n",
    "The function has **4 required arguments**:\n",
    "\n",
    "1. `src`: input array (multiple-channel, 8-bit or 32-bit floating point).\n",
    "2. `thresh`: threshold value.\n",
    "3. `maxval`:\tmaximum value to use with the **THRESH_BINARY** and **THRESH_BINARY_INV** thresholding types.\n",
    "4. `type`: thresholding type (see ThresholdTypes).\n",
    "\n",
    "### <font style=\"color:rgb(8,133,37)\">OpenCV Documentation</font>\n",
    "\n",
    "[**`threshold types`**](https://docs.opencv.org/4.5.2/d7/d1b/group__imgproc__misc.html#gaa9e58d2860d4afa658ef70a9b1115576)\n",
    "\n",
    "<hr   style=\"border:none; height: 4px; background-color: #D3D3D3 \" />\n"
   ]
  },
  {
   "cell_type": "code",
   "execution_count": null,
   "metadata": {},
   "outputs": [],
   "source": [
    "ret, alpha_mask = cv2.threshold(sig_gray, 150, 255, cv2.THRESH_BINARY_INV)\n",
    "cv2.imwrite('alpha_mask.jpg', alpha_mask)\n",
    "plt.imshow(alpha_mask)\n",
    "plt.title('Alpha Mask')"
   ]
  },
  {
   "cell_type": "markdown",
   "metadata": {
    "slideshow": {
     "slide_type": "notes"
    }
   },
   "source": [
    "# 3.  Enhance the Color (optional)\n",
    "This is an optional step in which we will enhance the color of the signature. There are numerous methods that can be used to accomplish this. Here we will use the **`addWeighted()`** function to blend the signature with a saturated color. "
   ]
  },
  {
   "cell_type": "markdown",
   "metadata": {},
   "source": [
    "### <font style=\"color:rgb(50,120,230)\">Create a blue mask for blending<font/>"
   ]
  },
  {
   "cell_type": "code",
   "execution_count": null,
   "metadata": {},
   "outputs": [],
   "source": [
    "blue_mask = sig.copy()\n",
    "blue_mask[:, :] = (255, 0, 0)\n",
    "plt.imshow(blue_mask[:, :, ::-1])"
   ]
  },
  {
   "cell_type": "markdown",
   "metadata": {},
   "source": [
    "\n",
    "\n",
    "### <font style=\"color:rgb(8,133,37)\">OpenCV Documentation</font>\n",
    "\n",
    "[**`addWeighted()`**](https://docs.opencv.org/4.5.2/d2/de8/group__core__array.html#gafafb2513349db3bcff51f54ee5592a19)\n",
    "\n",
    "<hr   style=\"border:none; height: 4px; background-color: #D3D3D3 \" />"
   ]
  },
  {
   "cell_type": "markdown",
   "metadata": {},
   "source": [
    "### <font style=\"color:rgb(50,120,230)\">Blend the signature with the mask<font/>"
   ]
  },
  {
   "cell_type": "code",
   "execution_count": null,
   "metadata": {},
   "outputs": [],
   "source": [
    "sig_color = cv2.addWeighted(sig, 1, blue_mask, 0.5, 0)\n",
    "plt.imshow(sig_color[:, :, ::-1])"
   ]
  },
  {
   "cell_type": "markdown",
   "metadata": {},
   "source": [
    "# 4. Add the Alpha Mask as the 4th Channel to the Image\n",
    "The alpha channel contains the transparency information. The pixel intensity ranges from 0-255. 0 represents full transparency and 255 represents full opacity. Any value in between represents partial transparency. To add the alpha channel, we need to split the channels of the original color image, add a 4th channel, and merge all four channels as a single (multi-channel) array.\n",
    "### <font style=\"color:rgb(8,133,37)\">OpenCV Documentation</font>\n",
    "\n",
    "[**`split`**](https://docs.opencv.org/4.5.2/d2/de8/group__core__array.html#ga0547c7fed86152d7e9d0096029c8518a)\n",
    "[**`merge`**](https://docs.opencv.org/4.5.2/d2/de8/group__core__array.html#ga7d7b4d6c6ee504b30a20b1680029c7b4)"
   ]
  },
  {
   "cell_type": "markdown",
   "metadata": {},
   "source": [
    "### <font style=\"color:rgb(50,120,230)\">Split the color channels from the color image<font/>"
   ]
  },
  {
   "cell_type": "code",
   "execution_count": null,
   "metadata": {},
   "outputs": [],
   "source": [
    "# Split the color channels from the color image.\n",
    "b, g, r = cv2.split(sig_color)\n",
    "print(b.shape)\n",
    "print(g.shape)\n",
    "print(r.shape)"
   ]
  },
  {
   "cell_type": "markdown",
   "metadata": {},
   "source": [
    "### <font style=\"color:rgb(50,120,230)\">Add the Alpha mask as a 4th channel and merge the channels<font/>"
   ]
  },
  {
   "cell_type": "code",
   "execution_count": null,
   "metadata": {},
   "outputs": [],
   "source": [
    "# Create a list of the four arrays with the alpha channel as the 4th member. These are four separate 2D arrays.\n",
    "new = [b, g, r, alpha_mask]\n",
    "\n",
    "# Use the merge() function to create a single, multi-channel array.\n",
    "png = cv2.merge(new, 4)\n",
    "\n",
    "# Save the transparent signature a PNG file to retain the alpha channel.\n",
    "cv2.imwrite('extracted_sig.png', png)\n",
    "\n",
    "# Display the actual image in the browser.\n",
    "Image('extracted_sig.png', width = '400')"
   ]
  },
  {
   "cell_type": "markdown",
   "metadata": {},
   "source": [
    "# 5. Import the Digital Signature into a PDF Document\n",
    "PDF documents allow you to import digital signatures. Let's take a look at the final result after removing the background.\n",
    "\n",
    "![Signed-Document](https://opencv.org/wp-content/uploads/2021/08/c0-m2-Signed-Document.png)"
   ]
  }
 ],
 "metadata": {
  "kernelspec": {
   "display_name": "Python 3",
   "language": "python",
   "name": "python3"
  },
  "language_info": {
   "codemirror_mode": {
    "name": "ipython",
    "version": 3
   },
   "file_extension": ".py",
   "mimetype": "text/x-python",
   "name": "python",
   "nbconvert_exporter": "python",
   "pygments_lexer": "ipython3",
   "version": "3.8.5"
  }
 },
 "nbformat": 4,
 "nbformat_minor": 4
}
