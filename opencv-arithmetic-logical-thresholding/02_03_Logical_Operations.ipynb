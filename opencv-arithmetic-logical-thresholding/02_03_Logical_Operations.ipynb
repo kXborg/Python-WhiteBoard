{
 "cells": [
  {
   "cell_type": "markdown",
   "metadata": {},
   "source": [
    "<h1 style=\"font-size:30px;\">Logical Operations</h1>\n",
    "\n",
    "Logical operations are often used with binary masks to process selective portions of an image. In this notebook we will cover:\n",
    "\n",
    "* Introduction to logical operators\n",
    "* Bitwise operations on images: AND, NOT, OR, XOR\n",
    "* Logo manipulation example"
   ]
  },
  {
   "cell_type": "markdown",
   "metadata": {},
   "source": [
    "# 1. Introduction to Logical  Operations\n",
    "\n",
    "The following table summarizes the four logical operators that will be covered in this notebook. The output of each operator for input combinations `A` and `B` are also shown. The values for `A` and `B` are either `0` or `1` because these logical operators will be performed on the bits that are used to represent pixel intensities.\n",
    "\n",
    "![Binary-Operators](https://opencv.org/wp-content/uploads/2021/08/c0-m2-binary-operator-table.png)"
   ]
  },
  {
   "cell_type": "markdown",
   "metadata": {},
   "source": [
    "### <font style=\"color:rgb(50,120,230)\">Binary Notation</font>\n",
    "The following examples show how the intensity of 255 (white), 42 (dark gray), and 0 (black) are represented as binary numbers:  `11111111`, `00101010`, and `00000000`, respectively. These are 8-bit unsigned integer representations and we will be using this notation when working with logical operators. As you can see, 255 is the largest number that can be represented with an 8-bit unsigned integer."
   ]
  },
  {
   "cell_type": "markdown",
   "metadata": {},
   "source": [
    "![Binary-notations](https://opencv.org/wp-content/uploads/2021/08/c0-m2-binary-notation.png)"
   ]
  },
  {
   "cell_type": "markdown",
   "metadata": {},
   "source": [
    "### <font style=\"color:rgb(50,120,230)\">Binary Operation Examples</font>\n",
    "Here are four examples of how the logical `AND` and `OR` operators are applied to unsigned 8-bit integers. In these examples, we are exploring the logical operations on pixel intensities of 0, 42, and 255 (i.e., black, dark gray, and white). "
   ]
  },
  {
   "cell_type": "markdown",
   "metadata": {},
   "source": [
    "![And-OR](https://opencv.org/wp-content/uploads/2021/08/c0-m2-binary-and-or-tables-4.png)"
   ]
  },
  {
   "cell_type": "code",
   "execution_count": 1,
   "metadata": {
    "slideshow": {
     "slide_type": "-"
    }
   },
   "outputs": [],
   "source": [
    "import cv2\n",
    "import numpy as np\n",
    "import matplotlib.pyplot as plt\n",
    "from PIL import Image \n",
    "%matplotlib inline\n",
    "plt.rcParams['image.cmap'] = 'gray'\n",
    "\n",
    "if 'google.colab' in str(get_ipython()):\n",
    "    print(\"Downloading Code to Colab Environment\")\n",
    "    !wget https://www.dropbox.com/sh/f8ae3j0nbrflife/AAAy-WwcREtWOGgoEbFLDPANa?dl=1 -O module-code.zip -q --show-progress\n",
    "    !unzip -qq module-code.zip\n",
    "else:\n",
    "    pass"
   ]
  },
  {
   "cell_type": "markdown",
   "metadata": {},
   "source": [
    "# 2. Bitwise Operations on Images\n",
    "\n",
    "<hr style=\"border:none; height: 4px; background-color:#D3D3D3\" />\n",
    "\n",
    "### <font color=\"green\">Function Syntax</font>\n",
    "\n",
    "Example API for **`bitwise_and()`**. Others include: **`bitwise_not()`**, **`bitwise_or()`**, **`bitwise_xor()`** \n",
    "\n",
    "``` python\n",
    "dst = cv2.bitwise_and( src1, src2[, dst[, mask]] )\n",
    "```\n",
    "\n",
    "`dst`: Output array that has the same size and type as the input arrays.\n",
    "\n",
    "The function has **2 required arguments**:\n",
    "\n",
    "1. `src1`:\tfirst input array or a scalar.\n",
    "2. `src2`:\tsecond input array or a scalar.\n",
    "\n",
    "An important optional argument is:\n",
    "\n",
    "1. `mask`:\toptional operation mask, 8-bit single channel array, that specifies elements of the output array to be changed.\n",
    "\n",
    "\n",
    "### <font color=\"green\">OpenCV Documentation</font>\n",
    "\n",
    "[**`bitwise_and()`**](https://docs.opencv.org/4.5.2/d2/de8/group__core__array.html#ga60b4d04b251ba5eb1392c34425497e14)\n",
    "[**`bitwsie_not()`**](https://docs.opencv.org/4.5.2/d2/de8/group__core__array.html#ga0002cf8b418479f4cb49a75442baee2f)\n",
    "[**`bitwise_or()`**](https://docs.opencv.org/4.5.2/d2/de8/group__core__array.html#gab85523db362a4e26ff0c703793a719b4)\n",
    "[**`bitwise_xor()`**](https://docs.opencv.org/4.5.2/d2/de8/group__core__array.html#ga84b2d8188ce506593dcc3f8cd00e8e2c)\n",
    "\n",
    "[**Arithmetic Operations Tutorial**](https://docs.opencv.org/4.5.2/d0/d86/tutorial_py_image_arithmetics.html)\n",
    "\n",
    "<hr style=\"border:none; height: 4px; background-color:#D3D3D3\" />"
   ]
  },
  {
   "cell_type": "markdown",
   "metadata": {},
   "source": [
    "### <font style=\"color:rgb(50,120,230)\">Read and display input images</font>"
   ]
  },
  {
   "cell_type": "code",
   "execution_count": 2,
   "metadata": {
    "slideshow": {
     "slide_type": "slide"
    }
   },
   "outputs": [
    {
     "name": "stdout",
     "output_type": "stream",
     "text": [
      "(200, 499)\n"
     ]
    },
    {
     "data": {
      "image/png": "[encoded data removed]",
      "text/plain": [
       "<Figure size 1440x360 with 2 Axes>"
      ]
     },
     "metadata": {
      "needs_background": "light"
     },
     "output_type": "display_data"
    }
   ],
   "source": [
    "img_rec = cv2.imread('rectangle.jpg', cv2.IMREAD_GRAYSCALE)\n",
    "img_cir = cv2.imread('circle.jpg', cv2.IMREAD_GRAYSCALE)\n",
    "\n",
    "plt.figure(figsize = [20,5])\n",
    "plt.subplot(121);  plt.imshow(img_rec)\n",
    "plt.subplot(122);  plt.imshow(img_cir)\n",
    "print(img_rec.shape)"
   ]
  },
  {
   "cell_type": "markdown",
   "metadata": {},
   "source": [
    "### <font style=\"color:rgb(50,120,230)\">Bitwise AND Operator </font>\n",
    "The `bitwise_and()` function will return "
   ]
  },
  {
   "cell_type": "code",
   "execution_count": 3,
   "metadata": {},
   "outputs": [
    {
     "data": {
      "text/plain": [
       "<matplotlib.image.AxesImage at 0x13fec765ac0>"
      ]
     },
     "execution_count": 3,
     "metadata": {},
     "output_type": "execute_result"
    },
    {
     "data": {
      "image/png": "[encoded data removed]",
      "text/plain": [
       "<Figure size 432x288 with 1 Axes>"
      ]
     },
     "metadata": {
      "needs_background": "light"
     },
     "output_type": "display_data"
    }
   ],
   "source": [
    "result = cv2.bitwise_and(img_rec, img_cir, mask = None)\n",
    "\n",
    "plt.imshow(result)"
   ]
  },
  {
   "cell_type": "markdown",
   "metadata": {},
   "source": [
    "### <font style=\"color:rgb(50,120,230)\">Bitwise OR Operator </font>"
   ]
  },
  {
   "cell_type": "code",
   "execution_count": 4,
   "metadata": {},
   "outputs": [
    {
     "data": {
      "text/plain": [
       "<matplotlib.image.AxesImage at 0x13fec7c3760>"
      ]
     },
     "execution_count": 4,
     "metadata": {},
     "output_type": "execute_result"
    },
    {
     "data": {
      "image/png": "[encoded data removed]",
      "text/plain": [
       "<Figure size 432x288 with 1 Axes>"
      ]
     },
     "metadata": {
      "needs_background": "light"
     },
     "output_type": "display_data"
    }
   ],
   "source": [
    "result = cv2.bitwise_or(img_rec, img_cir, mask = None)\n",
    "plt.imshow(result)"
   ]
  },
  {
   "cell_type": "markdown",
   "metadata": {},
   "source": [
    "### <font style=\"color:rgb(50,120,230)\">Bitwise XOR Operator </font>"
   ]
  },
  {
   "cell_type": "code",
   "execution_count": 5,
   "metadata": {},
   "outputs": [
    {
     "data": {
      "text/plain": [
       "<matplotlib.image.AxesImage at 0x13fec816fa0>"
      ]
     },
     "execution_count": 5,
     "metadata": {},
     "output_type": "execute_result"
    },
    {
     "data": {
      "image/png": "[encoded data removed]",
      "text/plain": [
       "<Figure size 432x288 with 1 Axes>"
      ]
     },
     "metadata": {
      "needs_background": "light"
     },
     "output_type": "display_data"
    }
   ],
   "source": [
    "result = cv2.bitwise_xor(img_rec, img_cir, mask = None)\n",
    "plt.imshow(result)"
   ]
  },
  {
   "cell_type": "markdown",
   "metadata": {},
   "source": [
    "# 2. Example Application: Logo Manipulation\n",
    "\n",
    "In this section we will show you how to fill in the white lettering of the Consumer Reports logo below with a background image.\n",
    "\n",
    "![Logo-manipulation](https://opencv.org/wp-content/uploads/2021/08/c0-m2-logo-manipulation-cr.png)"
   ]
  },
  {
   "cell_type": "markdown",
   "metadata": {},
   "source": [
    "### <font style=\"color:rgb(50,120,230)\">Read and display the foreground image (logo)</font>"
   ]
  },
  {
   "cell_type": "code",
   "execution_count": 6,
   "metadata": {},
   "outputs": [
    {
     "name": "stdout",
     "output_type": "stream",
     "text": [
      "(500, 500, 3)\n"
     ]
    },
    {
     "data": {
      "text/plain": [
       "<matplotlib.image.AxesImage at 0x13fec86fe50>"
      ]
     },
     "execution_count": 6,
     "metadata": {},
     "output_type": "execute_result"
    },
    {
     "data": {
      "image/png": "[encoded data removed]",
      "text/plain": [
       "<Figure size 360x360 with 1 Axes>"
      ]
     },
     "metadata": {
      "needs_background": "light"
     },
     "output_type": "display_data"
    }
   ],
   "source": [
    "# Read the of image of color CR logo (foreground).\n",
    "img_logo = cv2.imread('CR_Logo.png', cv2.IMREAD_COLOR)\n",
    "\n",
    "# Print the image shape.\n",
    "print(img_logo.shape)\n",
    "logo_h = img_logo.shape[0]\n",
    "logo_w = img_logo.shape[1]\n",
    "\n",
    "# Display the image.\n",
    "plt.figure(figsize = [5, 5])\n",
    "plt.imshow(img_logo[:, :, ::-1])"
   ]
  },
  {
   "cell_type": "markdown",
   "metadata": {},
   "source": [
    "### <font style=\"color:rgb(50,120,230)\">Read the background image (checkerboard) and print the shape</font>"
   ]
  },
  {
   "cell_type": "code",
   "execution_count": 7,
   "metadata": {},
   "outputs": [
    {
     "name": "stdout",
     "output_type": "stream",
     "text": [
      "(900, 900, 3)\n"
     ]
    }
   ],
   "source": [
    "# Read the of image of color cheackerboad (background).\n",
    "img_background = cv2.imread('checkerboard_color.png', cv2.IMREAD_COLOR)\n",
    "\n",
    "# Print the image shape.\n",
    "print(img_background.shape)"
   ]
  },
  {
   "cell_type": "markdown",
   "metadata": {},
   "source": [
    "### <font style=\"color:rgb(50,120,230)\">Resize the background image and display it</font>"
   ]
  },
  {
   "cell_type": "code",
   "execution_count": 8,
   "metadata": {},
   "outputs": [
    {
     "name": "stdout",
     "output_type": "stream",
     "text": [
      "(500, 500, 3)\n"
     ]
    },
    {
     "data": {
      "text/plain": [
       "<matplotlib.image.AxesImage at 0x13fec8cc340>"
      ]
     },
     "execution_count": 8,
     "metadata": {},
     "output_type": "execute_result"
    },
    {
     "data": {
      "image/png": "[encoded data removed]",
      "text/plain": [
       "<Figure size 360x360 with 1 Axes>"
      ]
     },
     "metadata": {
      "needs_background": "light"
     },
     "output_type": "display_data"
    }
   ],
   "source": [
    "# Set the dimension of the background image to be the same as the logo.\n",
    "dim = (logo_w, logo_h)\n",
    "\n",
    "# Resize the background image to the same size as logo image.\n",
    "img_background = cv2.resize(img_background, dim, interpolation = cv2.INTER_AREA)\n",
    "\n",
    "# Print the image shape to confirm it's the same size as the logo.\n",
    "print(img_background.shape)\n",
    "\n",
    "# Display the image.\n",
    "plt.figure(figsize = [5, 5])\n",
    "plt.imshow(img_background[:, :, ::-1])"
   ]
  },
  {
   "cell_type": "markdown",
   "metadata": {},
   "source": [
    "### <font style=\"color:rgb(50,120,230)\">Create a mask from the logo image</font>"
   ]
  },
  {
   "cell_type": "code",
   "execution_count": 9,
   "metadata": {},
   "outputs": [
    {
     "name": "stdout",
     "output_type": "stream",
     "text": [
      "(500, 500)\n"
     ]
    },
    {
     "data": {
      "text/plain": [
       "<matplotlib.image.AxesImage at 0x13fec913f40>"
      ]
     },
     "execution_count": 9,
     "metadata": {},
     "output_type": "execute_result"
    },
    {
     "data": {
      "image/png": "[encoded data removed]",
      "text/plain": [
       "<Figure size 360x360 with 1 Axes>"
      ]
     },
     "metadata": {
      "needs_background": "light"
     },
     "output_type": "display_data"
    }
   ],
   "source": [
    "# Convert the image to grayscale.\n",
    "img_logo_gray = cv2.cvtColor(img_logo, cv2.COLOR_RGB2GRAY)\n",
    "\n",
    "# Apply global thresholding to create a binary mask of the logo.\n",
    "retval, img_logo_mask = cv2.threshold(img_logo_gray, 127, 255, cv2.THRESH_BINARY)\n",
    "\n",
    "# Print the image shape.\n",
    "print(img_logo_mask.shape);\n",
    "\n",
    "# Display the image.\n",
    "plt.figure(figsize = [5, 5])\n",
    "plt.imshow(img_logo_mask)"
   ]
  },
  {
   "cell_type": "markdown",
   "metadata": {},
   "source": [
    "### <font style=\"color:rgb(50,120,229)\">Apply the mask to the background image</font>"
   ]
  },
  {
   "cell_type": "code",
   "execution_count": 10,
   "metadata": {},
   "outputs": [
    {
     "name": "stdout",
     "output_type": "stream",
     "text": [
      "(500, 500, 3)\n"
     ]
    },
    {
     "data": {
      "text/plain": [
       "<matplotlib.image.AxesImage at 0x13fecad7ac0>"
      ]
     },
     "execution_count": 10,
     "metadata": {},
     "output_type": "execute_result"
    },
    {
     "data": {
      "image/png": "[encoded data removed]",
      "text/plain": [
       "<Figure size 360x360 with 1 Axes>"
      ]
     },
     "metadata": {
      "needs_background": "light"
     },
     "output_type": "display_data"
    }
   ],
   "source": [
    "# Create colorful checkerboard background \"behind\" the logo lettering.\n",
    "img_background = cv2.bitwise_and(img_background, img_background, mask = img_logo_mask)\n",
    "\n",
    "# Print the image shape.\n",
    "print(img_background.shape);\n",
    "\n",
    "# Display the image.\n",
    "plt.figure(figsize = [5, 5])\n",
    "plt.imshow(img_background)"
   ]
  },
  {
   "cell_type": "markdown",
   "metadata": {},
   "source": [
    "### <font style=\"color:rgb(50,120,230)\">Invert the mask </font>"
   ]
  },
  {
   "cell_type": "code",
   "execution_count": 11,
   "metadata": {},
   "outputs": [
    {
     "name": "stdout",
     "output_type": "stream",
     "text": [
      "(500, 500)\n"
     ]
    },
    {
     "data": {
      "text/plain": [
       "<matplotlib.image.AxesImage at 0x13fecb2b7f0>"
      ]
     },
     "execution_count": 11,
     "metadata": {},
     "output_type": "execute_result"
    },
    {
     "data": {
      "image/png": "[encoded data removed]",
      "text/plain": [
       "<Figure size 360x360 with 1 Axes>"
      ]
     },
     "metadata": {
      "needs_background": "light"
     },
     "output_type": "display_data"
    }
   ],
   "source": [
    "# Create an inverse mask.\n",
    "img_logo_mask_inv = cv2.bitwise_not(img_logo_mask)\n",
    "\n",
    "# Print the image shape.\n",
    "print(img_logo_mask_inv.shape)\n",
    "\n",
    "# Display the image.\n",
    "plt.figure(figsize = [5, 5])\n",
    "plt.imshow(img_logo_mask_inv)"
   ]
  },
  {
   "cell_type": "markdown",
   "metadata": {},
   "source": [
    "### <font style=\"color:rgb(50,120,229)\">Isolate the foreground of the logo</font>"
   ]
  },
  {
   "cell_type": "code",
   "execution_count": 12,
   "metadata": {},
   "outputs": [
    {
     "name": "stdout",
     "output_type": "stream",
     "text": [
      "(500, 500, 3)\n"
     ]
    },
    {
     "data": {
      "text/plain": [
       "<matplotlib.image.AxesImage at 0x13fecb81610>"
      ]
     },
     "execution_count": 12,
     "metadata": {},
     "output_type": "execute_result"
    },
    {
     "data": {
      "image/png": "[encoded data removed]",
      "text/plain": [
       "<Figure size 360x360 with 1 Axes>"
      ]
     },
     "metadata": {
      "needs_background": "light"
     },
     "output_type": "display_data"
    }
   ],
   "source": [
    "# Isolate the foreground using the inverse mask.\n",
    "img_foreground = cv2.bitwise_and(img_logo, img_logo, mask = img_logo_mask_inv)\n",
    "\n",
    "# Print the image shape.\n",
    "print(img_foreground.shape)\n",
    "\n",
    "# Display the image.\n",
    "plt.figure(figsize = [5, 5])\n",
    "plt.imshow(img_foreground)"
   ]
  },
  {
   "cell_type": "markdown",
   "metadata": {},
   "source": [
    "### <font style=\"color:rgb(50,120,229)\">Final result: Add the Foreground and Background</font>"
   ]
  },
  {
   "cell_type": "code",
   "execution_count": 13,
   "metadata": {},
   "outputs": [
    {
     "data": {
      "text/plain": [
       "True"
      ]
     },
     "execution_count": 13,
     "metadata": {},
     "output_type": "execute_result"
    },
    {
     "data": {
      "image/png": "[encoded data removed]",
      "text/plain": [
       "<Figure size 360x360 with 1 Axes>"
      ]
     },
     "metadata": {
      "needs_background": "light"
     },
     "output_type": "display_data"
    }
   ],
   "source": [
    "# Add the two previous results to obtain the final result.\n",
    "result = cv2.add(img_background,img_foreground)\n",
    "\n",
    "# Display the image and save the the result to the file system.\n",
    "plt.figure(figsize = [5, 5])\n",
    "plt.imshow(result)\n",
    "cv2.imwrite('logo_final.png', result[:, :, ::-1])"
   ]
  },
  {
   "cell_type": "markdown",
   "metadata": {},
   "source": [
    "# 3. Exercise\n",
    "\n",
    "Given the first two images, generate the 3rd image.\n",
    "\n",
    "![Exercise-03-preview](https://opencv.org/wp-content/uploads/2021/08/c0-m2-Exercise-03-preview.png)"
   ]
  },
  {
   "cell_type": "markdown",
   "metadata": {},
   "source": [
    "### <font style=\"color:rgb(50,120,230)\">Read and display input images (completed for you)</font>"
   ]
  },
  {
   "cell_type": "code",
   "execution_count": 14,
   "metadata": {},
   "outputs": [
    {
     "name": "stdout",
     "output_type": "stream",
     "text": [
      "yellow square:  (600, 600, 3)\n",
      "gray circle:    (1000, 1000, 3)\n"
     ]
    },
    {
     "data": {
      "text/plain": [
       "Text(0.5, 1.0, 'Green Circle')"
      ]
     },
     "execution_count": 14,
     "metadata": {},
     "output_type": "execute_result"
    },
    {
     "data": {
      "image/png": "[encoded data removed]",
      "text/plain": [
       "<Figure size 576x576 with 2 Axes>"
      ]
     },
     "metadata": {
      "needs_background": "light"
     },
     "output_type": "display_data"
    }
   ],
   "source": [
    "# Read the image of a yellow square ('yellow_square.png')\n",
    "img_yellow_square = cv2.imread('yellow_square.png', cv2.IMREAD_COLOR)\n",
    "\n",
    "# Read the image of a green/gray circle inside square.\n",
    "img_green_circle = cv2.imread('green_circle.png', cv2.IMREAD_COLOR)\n",
    "\n",
    "print('yellow square: ', img_yellow_square.shape)\n",
    "print('gray circle:   ', img_green_circle.shape)\n",
    "\n",
    "# Display both input images using matplotlib imshow().\n",
    "plt.figure(figsize = (8, 8))\n",
    "plt.subplot(121); plt.imshow(img_yellow_square[:, :, ::-1]); plt.title('Yellow Square')\n",
    "plt.subplot(122); plt.imshow(img_green_circle);              plt.title('Green Circle')"
   ]
  },
  {
   "cell_type": "markdown",
   "metadata": {},
   "source": [
    "### <font style=\"color:rgb(50,120,230)\">Resize the yellow square (completed for you)</font>\n",
    "\n",
    "Before we can peform logical operations on these images, we need to make them the same size."
   ]
  },
  {
   "cell_type": "code",
   "execution_count": 15,
   "metadata": {},
   "outputs": [
    {
     "name": "stdout",
     "output_type": "stream",
     "text": [
      "yellow square:  (1000, 1000, 3)\n",
      "gray circle:  (1000, 1000, 3)\n"
     ]
    }
   ],
   "source": [
    "# Resize the background (yellow) image to the same size as the grayscale image.\n",
    "dim = (img_green_circle.shape[1], img_green_circle.shape[0])\n",
    "\n",
    "# Resize the yellow square.\n",
    "img_yellow_square = cv2.resize(img_yellow_square, dim, interpolation=cv2.INTER_AREA)\n",
    "\n",
    "# Print the image sizes to confirm the width and height match.\n",
    "print('yellow square: ', img_yellow_square.shape)\n",
    "print('gray circle: ', img_green_circle.shape)"
   ]
  },
  {
   "cell_type": "markdown",
   "metadata": {},
   "source": [
    "### <font style=\"color:rgb(50,120,230)\">Coding exercise</font>\n",
    "\n",
    "Please complete the code in the cells below."
   ]
  },
  {
   "cell_type": "code",
   "execution_count": 16,
   "metadata": {},
   "outputs": [],
   "source": [
    "# Convert the green circle image to grayscale using cvtColor()\n",
    "# YOUR CODE HERE\n",
    "# img_gray_circle = \n",
    "\n",
    "# Use the threshold() function to create a binary mask (white RING inside a black square).\n",
    "# Hint: You will need to CARFULLY choose a threshold value that isolates the light gray ring.\n",
    "# YOUR CODE HERE\n",
    "# retval, img_ring_mask = \n",
    "\n",
    "# Use the bitwise_not() function to create an inverse mask.\n",
    "# YOUR CODE HERE\n",
    "# img_ring_mask_inv = \n",
    "\n",
    "# Use bitwise_and() to create the final combined image (black ring on a yellow square)\n",
    "# YOUR CODE HERE\n",
    "# img_combined = \n",
    "\n",
    "# Display the images.\n",
    "# UNCOMMENT THE LINES BELOW\n",
    "# plt.figure(figsize = [20,10])\n",
    "# plt.subplot(141); plt.imshow(img_gray_circle);          plt.title('Gray Scale Image')\n",
    "# plt.subplot(142); plt.imshow(img_ring_mask);            plt.title('Mask')\n",
    "# plt.subplot(143); plt.imshow(img_ring_mask_inv);        plt.title('Inverse Mask')\n",
    "# plt.subplot(144); plt.imshow(img_combined[:, :, ::-1]); plt.title('Combined')"
   ]
  },
  {
   "cell_type": "markdown",
   "metadata": {},
   "source": [
    "Your results should look like this.\n",
    "\n",
    "![Exercise-02-03](https://opencv.org/wp-content/uploads/2021/08/c0-m2-Exercise-03.png)"
   ]
  }
 ],
 "metadata": {
  "kernelspec": {
   "display_name": "Python 3",
   "language": "python",
   "name": "python3"
  },
  "language_info": {
   "codemirror_mode": {
    "name": "ipython",
    "version": 3
   },
   "file_extension": ".py",
   "mimetype": "text/x-python",
   "name": "python",
   "nbconvert_exporter": "python",
   "pygments_lexer": "ipython3",
   "version": "3.8.5"
  }
 },
 "nbformat": 4,
 "nbformat_minor": 2
}
