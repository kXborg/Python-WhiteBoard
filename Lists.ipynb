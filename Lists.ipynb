{
 "cells": [
  {
   "cell_type": "markdown",
   "id": "e035f1a2",
   "metadata": {},
   "source": [
    "### Problem 1\n",
    "By FaceBook\n",
    "Find whether a given element exists in a given list.\n",
    "<br>\n",
    "<br>\n",
    "**`mat = [[1,3,9],[4,8,10],[22,88,90]]`**\n",
    "\n",
    "```\n",
    "def searchMatrix(mat, value):\n",
    "   #Edit your answer\n",
    "   \n",
    "#print(serachMatrix(mat,4))\n",
    "#True\n",
    "\n",
    "#print(searchMatrix(mat, 100))\n",
    "#False\n",
    "```"
   ]
  },
  {
   "cell_type": "code",
   "execution_count": 1,
   "id": "d87e74d1",
   "metadata": {},
   "outputs": [
    {
     "name": "stdout",
     "output_type": "stream",
     "text": [
      "[1, 3, 9, 4, 8, 10, 22, 88, 90]\n",
      "9\n",
      "False\n"
     ]
    }
   ],
   "source": [
    "def searchMatrix(mat, value):\n",
    "    flat = [i for sublist in mat for i in sublist]\n",
    "    print(flat)\n",
    "    print(len(flat))\n",
    "    for j in range(0,9):\n",
    "        x = True if value == flat[j] else False\n",
    "        return x\n",
    "\n",
    "mat = [[1,3,9],[4,8,10],[22,88,90]]\n",
    "\n",
    "print(searchMatrix(mat, 4))\n",
    "\n",
    "# print(searchMatrix(mat, 100))\n"
   ]
  },
  {
   "cell_type": "code",
   "execution_count": null,
   "id": "3daaf82a",
   "metadata": {},
   "outputs": [],
   "source": []
  },
  {
   "cell_type": "code",
   "execution_count": null,
   "id": "d9e74b31",
   "metadata": {},
   "outputs": [],
   "source": []
  }
 ],
 "metadata": {
  "kernelspec": {
   "display_name": "Python 3 (ipykernel)",
   "language": "python",
   "name": "python3"
  },
  "language_info": {
   "codemirror_mode": {
    "name": "ipython",
    "version": 3
   },
   "file_extension": ".py",
   "mimetype": "text/x-python",
   "name": "python",
   "nbconvert_exporter": "python",
   "pygments_lexer": "ipython3",
   "version": "3.9.12"
  }
 },
 "nbformat": 4,
 "nbformat_minor": 5
}
