{
 "cells": [
  {
   "cell_type": "markdown",
   "metadata": {},
   "source": [
    "## Remove duplicates from the list"
   ]
  },
  {
   "cell_type": "markdown",
   "metadata": {},
   "source": [
    "#### Method 1: Naive Method"
   ]
  },
  {
   "cell_type": "code",
   "execution_count": 2,
   "metadata": {},
   "outputs": [],
   "source": [
    "list1 = ['Amit', 22, 99, 'Amit', 22, 'Kukil', 'Hanabi', 'Cyclops', 99, 'Hanabi']"
   ]
  },
  {
   "cell_type": "code",
   "execution_count": 3,
   "metadata": {},
   "outputs": [
    {
     "name": "stdout",
     "output_type": "stream",
     "text": [
      "['Amit', 22, 99, 'Kukil', 'Hanabi', 'Cyclops']\n"
     ]
    }
   ],
   "source": [
    "# Define an empty list.\n",
    "list2 = []\n",
    "for i in list1:\n",
    "    if i not in list2:\n",
    "        list2.append(i)\n",
    "print(list2)"
   ]
  },
  {
   "cell_type": "markdown",
   "metadata": {},
   "source": [
    "#### Method 2: Using list comrehension\n",
    "What is list comprehension?"
   ]
  },
  {
   "cell_type": "code",
   "execution_count": 5,
   "metadata": {},
   "outputs": [
    {
     "name": "stdout",
     "output_type": "stream",
     "text": [
      "['Amit', 22, 99, 'Kukil', 'Hanabi', 'Cyclops']\n"
     ]
    }
   ],
   "source": [
    "list2 = []\n",
    "[list2.append(i) for i in list1 if i not in list2]\n",
    "print(list2)"
   ]
  },
  {
   "cell_type": "markdown",
   "metadata": {},
   "source": [
    "#### Method 3 : Using set()\n",
    "This is the most popular way by which the duplicated are removed from the list. But the main and notable drawback of this approach is that the ordering of the element is lost in this particular method."
   ]
  },
  {
   "cell_type": "code",
   "execution_count": 6,
   "metadata": {},
   "outputs": [
    {
     "name": "stdout",
     "output_type": "stream",
     "text": [
      "Uisng list() function :  <class 'list'> [1, 3, 5, 6]\n",
      "List() method not used :  <class 'set'> {1, 3, 5, 6}\n"
     ]
    }
   ],
   "source": [
    "# initializing list\n",
    "list3 = [1, 5, 3, 6, 3, 5, 6, 1]\n",
    "final = list(set(list3))\n",
    "print('Uisng list() function : ', type(final), final)\n",
    "\n",
    "# What if I don't use list() function.\n",
    "final = set(list3)\n",
    "print('List() method not used : ', type(final), final)"
   ]
  },
  {
   "cell_type": "markdown",
   "metadata": {},
   "source": [
    "#### Method 4 : Using list comprehension + enumerate()\n",
    "list comprehension coupled with enumerate function can also achieve this task. It basically looks for already occurred elements and skips adding them. It preserves the list ordering."
   ]
  },
  {
   "cell_type": "code",
   "execution_count": 7,
   "metadata": {},
   "outputs": [
    {
     "name": "stdout",
     "output_type": "stream",
     "text": [
      "[1, 5, 3, 6]\n"
     ]
    }
   ],
   "source": [
    "# Use list3\n",
    "final = [i for n, i in enumerate(list3) if i not in list3[:n]]\n",
    "print(final)"
   ]
  }
 ],
 "metadata": {
  "kernelspec": {
   "display_name": "Python 3",
   "language": "python",
   "name": "python3"
  },
  "language_info": {
   "codemirror_mode": {
    "name": "ipython",
    "version": 3
   },
   "file_extension": ".py",
   "mimetype": "text/x-python",
   "name": "python",
   "nbconvert_exporter": "python",
   "pygments_lexer": "ipython3",
   "version": "3.8.5"
  }
 },
 "nbformat": 4,
 "nbformat_minor": 4
}
