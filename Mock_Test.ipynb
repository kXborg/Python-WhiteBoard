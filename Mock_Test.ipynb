{
 "cells": [
  {
   "cell_type": "code",
   "execution_count": 3,
   "metadata": {},
   "outputs": [],
   "source": [
    "list1 = ['olivia', 'george', 'kukil', 'matt']\n",
    "list2 = ['hughes', 'mona', 'olivia', 'kukil']"
   ]
  },
  {
   "cell_type": "code",
   "execution_count": 11,
   "metadata": {},
   "outputs": [
    {
     "name": "stdout",
     "output_type": "stream",
     "text": [
      "['olivia', 'hughes', 'george', 'mona', 'kukil', 'olivia', 'matt', 'kukil']\n",
      "['olivia', 'hughes', 'george', 'mona', 'kukil', 'olivia', 'matt']\n"
     ]
    }
   ],
   "source": [
    "final = []\n",
    "final2 = []\n",
    "for i in range(4):\n",
    "    final.append(list1[i])\n",
    "    final.append(list2[i])\n",
    "print(final)\n",
    "j = 0\n",
    "for i in range(8):\n",
    "    if final[j] != final[i]:\n",
    "        final2.append(final[j])\n",
    "        j += 1\n",
    "print(final2)"
   ]
  }
 ],
 "metadata": {
  "kernelspec": {
   "display_name": "Python 3",
   "language": "python",
   "name": "python3"
  },
  "language_info": {
   "codemirror_mode": {
    "name": "ipython",
    "version": 3
   },
   "file_extension": ".py",
   "mimetype": "text/x-python",
   "name": "python",
   "nbconvert_exporter": "python",
   "pygments_lexer": "ipython3",
   "version": "3.8.5"
  }
 },
 "nbformat": 4,
 "nbformat_minor": 4
}
