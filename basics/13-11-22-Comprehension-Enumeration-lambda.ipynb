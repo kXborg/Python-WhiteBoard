{
 "cells": [
  {
   "cell_type": "code",
   "execution_count": 4,
   "id": "a88f2cf5",
   "metadata": {},
   "outputs": [
    {
     "name": "stdout",
     "output_type": "stream",
     "text": [
      "0 1\n",
      "1 3\n",
      "2 6\n",
      "3 xcf\n"
     ]
    }
   ],
   "source": [
    "# Enumeration.\n",
    "list1 = [1, 3, 6, 'xcf']\n",
    "\n",
    "for i, x in enumerate(list1):\n",
    "    print(i, x)"
   ]
  },
  {
   "cell_type": "code",
   "execution_count": 5,
   "id": "dde9565e",
   "metadata": {},
   "outputs": [],
   "source": [
    "list2 = [9, 'def', 9, 100.1]"
   ]
  },
  {
   "cell_type": "code",
   "execution_count": 7,
   "id": "930a7305",
   "metadata": {},
   "outputs": [
    {
     "name": "stdout",
     "output_type": "stream",
     "text": [
      "(1, 9) \n",
      "\n",
      "(3, 'def') \n",
      "\n",
      "(6, 9) \n",
      "\n",
      "('xcf', 100.1) \n",
      "\n"
     ]
    }
   ],
   "source": [
    "# Zipping.\n",
    "for i in zip(list1, list2):\n",
    "    print(i, '\\n')"
   ]
  },
  {
   "cell_type": "code",
   "execution_count": 9,
   "id": "e8901234",
   "metadata": {},
   "outputs": [
    {
     "data": {
      "text/plain": [
       "16"
      ]
     },
     "execution_count": 9,
     "metadata": {},
     "output_type": "execute_result"
    }
   ],
   "source": [
    "# Lambda function.\n",
    "x, y, z = 2, 2, 2\n",
    "ret = lambda x,y,z : x**y**z\n",
    "ret(2,2,2)"
   ]
  },
  {
   "cell_type": "markdown",
   "id": "f189efa4",
   "metadata": {},
   "source": [
    "### Comprehension\n",
    "\n",
    "```\n",
    "vals = [expression \n",
    "        for value in collection \n",
    "        if condition]\n",
    "```\n",
    "\n",
    "### This is equivalent to:\n",
    "\n",
    "```\n",
    "vals = []\n",
    "for value in collection:\n",
    "    if condition:\n",
    "        vals.append(expression)\n",
    "```"
   ]
  },
  {
   "cell_type": "code",
   "execution_count": 10,
   "id": "48abf08d",
   "metadata": {},
   "outputs": [],
   "source": [
    "vals = []\n",
    "\n",
    "for x in list1:\n",
    "    if x is not None:\n",
    "        vals.append(x)"
   ]
  },
  {
   "cell_type": "code",
   "execution_count": 11,
   "id": "437d30b1",
   "metadata": {},
   "outputs": [
    {
     "data": {
      "text/plain": [
       "[1, 3, 6, 'xcf']"
      ]
     },
     "execution_count": 11,
     "metadata": {},
     "output_type": "execute_result"
    }
   ],
   "source": [
    "vals"
   ]
  },
  {
   "cell_type": "code",
   "execution_count": 12,
   "id": "3c01826b",
   "metadata": {},
   "outputs": [
    {
     "data": {
      "text/plain": [
       "[1, 3, 6, 'xcf']"
      ]
     },
     "execution_count": 12,
     "metadata": {},
     "output_type": "execute_result"
    }
   ],
   "source": [
    "vals2 = [x for x in list1 if x is not None]\n",
    "vals2"
   ]
  },
  {
   "cell_type": "code",
   "execution_count": null,
   "id": "241693c0",
   "metadata": {},
   "outputs": [],
   "source": []
  }
 ],
 "metadata": {
  "kernelspec": {
   "display_name": "Python 3 (ipykernel)",
   "language": "python",
   "name": "python3"
  },
  "language_info": {
   "codemirror_mode": {
    "name": "ipython",
    "version": 3
   },
   "file_extension": ".py",
   "mimetype": "text/x-python",
   "name": "python",
   "nbconvert_exporter": "python",
   "pygments_lexer": "ipython3",
   "version": "3.9.12"
  }
 },
 "nbformat": 4,
 "nbformat_minor": 5
}
