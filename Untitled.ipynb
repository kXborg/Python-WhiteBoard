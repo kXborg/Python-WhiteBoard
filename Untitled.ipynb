{
 "cells": [
  {
   "cell_type": "code",
   "execution_count": 2,
   "metadata": {},
   "outputs": [],
   "source": [
    "import cv2\n",
    "import matplotlib.pyplot as plt\n",
    "# Set up the SimpleBlobdetector with default parameters.\n",
    "params = cv2.SimpleBlobDetector_Params()\n",
    "\n",
    "params.blobColor = 0\n",
    "\n",
    "params.minDistBetweenBlobs = 2\n",
    "\n",
    "# Filter by Area.\n",
    "params.filterByArea = False\n",
    "\n",
    "# Filter by Circularity\n",
    "params.filterByCircularity = True\n",
    "params.minCircularity = 0.8\n",
    "\n",
    "# Filter by Convexity\n",
    "params.filterByConvexity = True\n",
    "params.minConvexity = 0.8\n",
    "\n",
    "# Filter by Inertia\n",
    "params.filterByInertia =True\n",
    "params.minInertiaRatio = 0.8\n",
    "# Create SimpleBlobDetector\n",
    "detector = cv2.SimpleBlobDetector_create(params)"
   ]
  },
  {
   "cell_type": "code",
   "execution_count": 3,
   "metadata": {},
   "outputs": [
    {
     "name": "stdout",
     "output_type": "stream",
     "text": [
      "1 and 2 2 1\n"
     ]
    }
   ],
   "source": [
    "image1 = cv2.imread('5_new.png',0)\n",
    "image2 = cv2.imread('6_new.png',0)\n",
    "keypoints1 = detector.detect(image1)\n",
    "keypoints2 = detector.detect(image2)\n",
    "\n",
    "print('1 and 2', len(keypoints1), len(keypoints2))\n"
   ]
  }
 ],
 "metadata": {
  "kernelspec": {
   "display_name": "Python 3",
   "language": "python",
   "name": "python3"
  },
  "language_info": {
   "codemirror_mode": {
    "name": "ipython",
    "version": 3
   },
   "file_extension": ".py",
   "mimetype": "text/x-python",
   "name": "python",
   "nbconvert_exporter": "python",
   "pygments_lexer": "ipython3",
   "version": "3.8.5"
  }
 },
 "nbformat": 4,
 "nbformat_minor": 4
}
